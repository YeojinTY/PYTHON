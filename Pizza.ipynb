{
 "cells": [
  {
   "cell_type": "code",
   "execution_count": 6,
   "metadata": {},
   "outputs": [
    {
     "name": "stdout",
     "output_type": "stream",
     "text": [
      "피자의 면적: 1256.0\n",
      "피자의 면적: 2826.0\n",
      "피자의 둘레: 188.4\n"
     ]
    }
   ],
   "source": [
    "radius = 20\n",
    "area =3.14*radius**2\n",
    "print('피자의 면적:',area)\n",
    "\n",
    "#radius=30 면적과 둘레\n",
    "radius = 30\n",
    "area=3.14*radius**2\n",
    "circumference=2*3.14*radius\n",
    "print('피자의 면적:',area)\n",
    "print('피자의 둘레:',circumference)"
   ]
  }
 ],
 "metadata": {
  "kernelspec": {
   "display_name": "Python 3",
   "language": "python",
   "name": "python3"
  },
  "language_info": {
   "codemirror_mode": {
    "name": "ipython",
    "version": 3
   },
   "file_extension": ".py",
   "mimetype": "text/x-python",
   "name": "python",
   "nbconvert_exporter": "python",
   "pygments_lexer": "ipython3",
   "version": "3.12.5"
  }
 },
 "nbformat": 4,
 "nbformat_minor": 2
}
