{
 "cells": [
  {
   "cell_type": "markdown",
   "metadata": {},
   "source": [
    "*****도전문제 8.4*****\n",
    "\n",
    "lis=[10,30,40,50,30,30,20,20,20,10,30]\n",
    "\n",
    "(1)중복이 없는 원소를 출력하도록 하여라\n",
    "\n",
    "(2) 중복되는 원소를 한 번씩만 출력하도록 하여라\n",
    "\n",
    "(3) 중복 빈도를 출력하여라"
   ]
  },
  {
   "cell_type": "code",
   "execution_count": null,
   "metadata": {},
   "outputs": [
    {
     "name": "stdout",
     "output_type": "stream",
     "text": [
      "8.4(1) 결과: [40, 50]\n",
      "8.4(2) 결과: 10\n",
      "8.4(2) 결과: 20\n",
      "8.4(2) 결과: 30\n",
      "8.4(3) 결과: 1\n",
      "8.4(3) 결과: 1\n",
      "8.4(3) 결과: 1\n"
     ]
    }
   ],
   "source": [
    "#(1)\n",
    "lis=[10,30,40,50,30,30,20,20,20,10,30]\n",
    "make_set = set(lis)\n",
    "unique_values = [x for x in make_set if lis.count(x) == 1]\n",
    "print('8.4(1) 결과:',unique_values)\n",
    "\n",
    "#(2)\n",
    "make_set2 = set(lis)\n",
    "unique_values2 = [x for x in make_set2 if lis.count(x) > 1]\n",
    "for value in unique_values2:\n",
    "    print('8.4(2) 결과:',value)\n",
    "\n",
    "#(3)\n",
    "make_set3 = set(lis)\n"
   ]
  },
  {
   "cell_type": "markdown",
   "metadata": {},
   "source": [
    "*****도전문제 8.5*****\n",
    "\n",
    "\n",
    "lab 8-2의 영한사전을 확장. 확장할 명령은 v로 이를 입력할 경우 다음과 같이 사전에 등록된 단어와 그 뜻을 출력"
   ]
  },
  {
   "cell_type": "code",
   "execution_count": null,
   "metadata": {},
   "outputs": [
    {
     "name": "stdout",
     "output_type": "stream",
     "text": [
      "사전프로그램 시작 ... q를 입력 시 종료\n",
      "입력 오류\n",
      "입력 오류\n",
      "입력 오류\n",
      "입력 오류\n",
      "입력 오류\n",
      "입력 오류\n"
     ]
    },
    {
     "ename": "IndexError",
     "evalue": "string index out of range",
     "output_type": "error",
     "traceback": [
      "\u001b[1;31m---------------------------------------------------------------------------\u001b[0m",
      "\u001b[1;31mIndexError\u001b[0m                                Traceback (most recent call last)",
      "Cell \u001b[1;32mIn[20], line 6\u001b[0m\n\u001b[0;32m      4\u001b[0m \u001b[38;5;28;01mwhile\u001b[39;00m \u001b[38;5;28;01mTrue\u001b[39;00m:\n\u001b[0;32m      5\u001b[0m     st\u001b[38;5;241m=\u001b[39m\u001b[38;5;28minput\u001b[39m(\u001b[38;5;124m'\u001b[39m\u001b[38;5;124m$  \u001b[39m\u001b[38;5;124m'\u001b[39m)\n\u001b[1;32m----> 6\u001b[0m     command\u001b[38;5;241m=\u001b[39m\u001b[43mst\u001b[49m\u001b[43m[\u001b[49m\u001b[38;5;241;43m0\u001b[39;49m\u001b[43m]\u001b[49m\n\u001b[0;32m      7\u001b[0m     \u001b[38;5;28;01mif\u001b[39;00m command \u001b[38;5;241m==\u001b[39m \u001b[38;5;124m'\u001b[39m\u001b[38;5;124m<\u001b[39m\u001b[38;5;124m'\u001b[39m:\n\u001b[0;32m      8\u001b[0m         st \u001b[38;5;241m=\u001b[39m st[\u001b[38;5;241m1\u001b[39m:]\n",
      "\u001b[1;31mIndexError\u001b[0m: string index out of range"
     ]
    }
   ],
   "source": [
    "print('사전 프로그램 시작 종료는 q를 입력')\n",
    "dictionary = {}\n",
    "dictionary={'one':'하나','two':'둘','home':'집','Korea':'한국'}\n",
    "while True:\n",
    "    st = input('$ ')\n",
    "    command = st[0]\n",
    "    if command == '<':\n",
    "        st = st[1:]\n",
    "        inputStr = st.split(':')\n",
    "        if len(input < 2):\n",
    "            print('입력오류 발생')\n",
    "        else:\n",
    "            dictionary[inputStr[0].strip()] = inputStr[1].strip()\n",
    "    elif command == '>':\n",
    "        st = st[1:]\n",
    "        inputStr = st.strip()\n",
    "        if inputStr in dictionary:\n",
    "            print(dictionary[inputStr])\n",
    "        else:\n",
    "            print('{}가 사전에 없습니다.'.format(inputStr))\n",
    "    elif command == 'q':\n",
    "        break\n",
    "    else:\n",
    "        print('입력오류 발생.')\n",
    "print('프로그램을 종료합니다.')"
   ]
  },
  {
   "cell_type": "markdown",
   "metadata": {},
   "source": [
    "*****도전문제 8.6*****\n",
    "\n",
    "\n",
    "student_tuple =[('241101','강이안','010-123-1111'),('241102','박동민','010-333-4444'),('241103','김수정','010-124-2222')]\n",
    "\n",
    "\n",
    "튜플을 요소로 가지는 student_tuple 리스트가 다음과 같이 있다. 이 튜플의 요소가 되는 튜플은 위와 같이 (학번,이름,전화번호)로 이루어져있다.\n",
    "\n",
    "\n",
    "(1)이 튜플을 이용하여 (학번:이름)의 딕셔너리를 만들어 다음과 같이 출력하여라\n",
    "\n",
    "241101 : 강이안\n",
    "\n",
    "241102 : 박동민\n",
    "\n",
    "241103 : 김수정\n",
    "\n",
    "\n",
    "(2) 이 튜플을 이용하여 학번으로 학생의 정보를 조회를 할 경우  학번, 이름과 전화번호가 출력되도록 하여라.\n",
    " \n",
    "    학번을 입력하세요: 241103\n",
    "    241103학생은 김수정이며, 전화번호는 010-124-2222입니다."
   ]
  },
  {
   "cell_type": "code",
   "execution_count": 6,
   "metadata": {},
   "outputs": [
    {
     "name": "stdout",
     "output_type": "stream",
     "text": [
      "241101 : 강이안\n",
      "241102 : 박동민\n",
      "241103 : 김수정\n",
      "241103학생은 김수정이며, 전화번호는 010-124-2222입니다.\n"
     ]
    }
   ],
   "source": [
    "\n",
    "#(1)\n",
    "student_tuple = [('241101', '강이안', '010-123-1111'),('241102', '박동민', '010-333-4444'),('241103', '김수정', '010-124-2222')]\n",
    "student_dict = {student[0]: student[1] for student in student_tuple}\n",
    "for student_id, name in student_dict.items():\n",
    "    print(f\"{student_id} : {name}\")\n",
    "#(2)\n",
    "def get_student_info(student_id):\n",
    "    for student in student_tuple:\n",
    "        if student[0] == student_id:\n",
    "            print(f\"{student_id}학생은 {student[1]}이며, 전화번호는 {student[2]}입니다.\")\n",
    "            return\n",
    "    print(\"해당 학번의 학생이 없습니다.\")\n",
    "\n",
    "\n",
    "input_id = input(\"학번을 입력하세요: \")\n",
    "get_student_info(input_id)\n"
   ]
  },
  {
   "cell_type": "markdown",
   "metadata": {},
   "source": [
    "*****도전문제 8.7*****\n",
    "\n",
    "\n",
    "다음과 같이 튜플(m,n)을 요소로 가지는 리스트 mylist가 있다. 사용자로부터 a,b의 두 값을 입력으로 받아서 (a,b) 값을 가지는 튜플이 있을 경우,'x번째에 (a,b) 요소가 있습니다.'를 출력하여라. 만일 (a,b)요소는 없으나 (b,a)요소가 있을 경우 '(a,b)요소는 없으나 y번째에(b,a)요소가 있습니다.'를 출력하여라. 만일 (a,b)요소나 (b,a)요소가 없을 경우에는 '이 요소는 없습니다.'를 출력하여라\n",
    "\n",
    "mylist=[(1,2),(4,5),(4,2),(3,1),(9,4)]"
   ]
  },
  {
   "cell_type": "code",
   "execution_count": null,
   "metadata": {},
   "outputs": [],
   "source": []
  }
 ],
 "metadata": {
  "kernelspec": {
   "display_name": "Python 3",
   "language": "python",
   "name": "python3"
  },
  "language_info": {
   "codemirror_mode": {
    "name": "ipython",
    "version": 3
   },
   "file_extension": ".py",
   "mimetype": "text/x-python",
   "name": "python",
   "nbconvert_exporter": "python",
   "pygments_lexer": "ipython3",
   "version": "3.12.2"
  }
 },
 "nbformat": 4,
 "nbformat_minor": 2
}
