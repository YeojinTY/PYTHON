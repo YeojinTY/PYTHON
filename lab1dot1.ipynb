{
 "cells": [
  {
   "cell_type": "code",
   "execution_count": 2,
   "metadata": {},
   "outputs": [
    {
     "name": "stdout",
     "output_type": "stream",
     "text": [
      "안녕하세요 여러분\n",
      "i love python\n",
      "9*7 is  equal to  63\n",
      "50+30 =  80\n",
      "50-30 =  20\n",
      "50*30 =  1500\n",
      "50/30 1.6666666666666667\n"
     ]
    }
   ],
   "source": [
    "print('안녕하세요 여러분')\n",
    "print('i love python')\n",
    "print('9*7 is ','equal to ',9*7)\n",
    "\n",
    "print('50+30 = ',50+30)\n",
    "print('50-30 = ',50-30)\n",
    "print('50*30 = ',50*30)\n",
    "print('50/30',50/30)"
   ]
  }
 ],
 "metadata": {
  "kernelspec": {
   "display_name": "Python 3",
   "language": "python",
   "name": "python3"
  },
  "language_info": {
   "codemirror_mode": {
    "name": "ipython",
    "version": 3
   },
   "file_extension": ".py",
   "mimetype": "text/x-python",
   "name": "python",
   "nbconvert_exporter": "python",
   "pygments_lexer": "ipython3",
   "version": "3.12.5"
  }
 },
 "nbformat": 4,
 "nbformat_minor": 2
}
