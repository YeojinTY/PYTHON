{
 "cells": [
  {
   "cell_type": "markdown",
   "metadata": {},
   "source": [
    "*****1.1*****\n",
    "파이썬의 인터프리터 모드를 이용하여 다음과 같은 계산을 해보자."
   ]
  },
  {
   "cell_type": "code",
   "execution_count": 6,
   "metadata": {},
   "outputs": [
    {
     "name": "stdout",
     "output_type": "stream",
     "text": [
      "24\n",
      "0.5\n",
      "200\n",
      "-811\n",
      "12.34\n",
      "452.38924800000007\n"
     ]
    }
   ],
   "source": [
    "#(1) 4*3*2*1\n",
    "print(4*3*2*1)\n",
    "#(2)1/2\n",
    "print(1/2)\n",
    "#(3)300-100\n",
    "print(300-100)\n",
    "#(4)423-1234\n",
    "print(423-1234)\n",
    "#(5)(1/100)*1234\n",
    "print((1/100)*1234)\n",
    "#(6)3.141592*12.0*12.0\n",
    "print(3.141592*12.0*12.0)\n"
   ]
  },
  {
   "cell_type": "markdown",
   "metadata": {},
   "source": [
    "*****1.2*****\n",
    "forward()와  left()기능을 사용하여 한 변의 길이가 100인 픽셀인 도형을 그려보자"
   ]
  },
  {
   "cell_type": "code",
   "execution_count": null,
   "metadata": {},
   "outputs": [],
   "source": [
    "#1.2(1) 거북이를 움직여서 정삼각형을 그려보자\n",
    "import turtle\n",
    "t=turtle.Turtle()\n",
    "t.shape('turtle')\n",
    "t.forward(100)\n",
    "t.left(120)\n",
    "t.forward(100)\n",
    "t.left(120)\n",
    "t.forward(100)\n",
    "turtle.done"
   ]
  },
  {
   "cell_type": "code",
   "execution_count": 1,
   "metadata": {},
   "outputs": [
    {
     "data": {
      "text/plain": [
       "<function turtle.mainloop()>"
      ]
     },
     "execution_count": 1,
     "metadata": {},
     "output_type": "execute_result"
    },
    {
     "ename": "",
     "evalue": "",
     "output_type": "error",
     "traceback": [
      "\u001b[1;31mThe Kernel crashed while executing code in the current cell or a previous cell. \n",
      "\u001b[1;31mPlease review the code in the cell(s) to identify a possible cause of the failure. \n",
      "\u001b[1;31mClick <a href='https://aka.ms/vscodeJupyterKernelCrash'>here</a> for more info. \n",
      "\u001b[1;31mView Jupyter <a href='command:jupyter.viewOutput'>log</a> for further details."
     ]
    }
   ],
   "source": [
    "#1.2(2) 거북이를 움직여서 정사각형을 그려보자\n",
    "import turtle\n",
    "t=turtle.Turtle()\n",
    "t.shape('turtle')\n",
    "t.forward(100)\n",
    "t.left(90)\n",
    "t.forward(100)\n",
    "t.left(90)\n",
    "t.forward(100)\n",
    "t.left(90)\n",
    "t.forward(100)\n",
    "turtle.done"
   ]
  },
  {
   "cell_type": "code",
   "execution_count": null,
   "metadata": {},
   "outputs": [],
   "source": [
    "#1.2(3) 거북이를 움직여서 한 변의 길이가 50픽셀인 정육각형을 그려보자. 회전하는 각도를 몇도로 해야하는가?\n",
    "import turtle\n",
    "t=turtle.Turtle()\n",
    "t.forward(50)\n",
    "t.left(60)\n",
    "t.forward(50)\n",
    "t.left(60)\n",
    "t.forward(50)\n",
    "t.left(60)\n",
    "t.forward(50)\n",
    "t.left(60)\n",
    "t.forward(50)\n",
    "t.left(60)\n",
    "t.forward(50)\n",
    "turtle.done()"
   ]
  },
  {
   "cell_type": "code",
   "execution_count": null,
   "metadata": {},
   "outputs": [],
   "source": [
    "#1.2(4) 거북이를 10회 이상 회전시키고 이동시켜서 임의의 도형을 자유롭게 그려보자"
   ]
  },
  {
   "cell_type": "markdown",
   "metadata": {},
   "source": [
    "*****주관식 문제*****\n",
    "(1.1) (데이터) 과학은 데이터에서 과학적 방법으로 정보나 지식을 추출하는 학문이다. 이를 위해서는 통계학, 컴퓨터 과학, 그리고 데이터가 발생하는 영역과 관련된 학문 분야의 이론과 기술을 융합적으로 사용하여야 한다.\n",
    "\n",
    "(1.2) 짐그레이 박사는 최근 수십년 동안은 컴퓨터를 이용한 계산 과학이 과학 연구의 방법론으로 자리를 잡았다고 보았다. 그리고 그는 과학의 네 번째 패러다임으로 (데이터 중심의 과학)이 등장했다고 보았다.\n",
    "\n",
    "(1.3) 데이터 수집과 정제에 전문적인 역량을 가진 사람들을 통칭하여 (데이터 엔지니어)라고할 수 있다.\n",
    "\n",
    "(1.4) 학습모델을 구축하고 데이터 기반으로 모델을 훈련 시킨 뒤에 학습된 모델을 배포하는 일을 전문적으로 하는 사람들을 (기계학습 엔지니어)라고 한다. \n",
    "\n",
    "(1.5) 컴퓨터에서 사용하는 용어인 (프로그램)은 컴퓨터가 해야 할 일은 미리 기록해 놓은 작업지시서 같은 것 이다.\n",
    "\n",
    "(1.6) 컴퓨터가 수행하는 명령은 이진수 값으로 된 명령이다. 이렇게 기계가 곧 바로 이해할 수 있는 명령을 (기계어)라고 한다.\n",
    "\n",
    "(1.7) 프로그램을 작성하기 위해 사람이 이해하기 쉽게 만든 언어를 (프로그래밍 언어)라고 한다.\n",
    "\n",
    "(1.8) 파이썬은 (귀도 반 로섬)이 개발한 대화형 프로그래밍 언어이다.\n",
    "\n",
    "(1.9) 명령을 해석하고 실행하는 프로그램을 파이썬(인터프리터)라고 한다.\n",
    "\n",
    "(1.10) 파이썬이나 c언어와 같은 컴퓨터 프로그래밍 언어에서 문자의 모음을 (소스코드)라고 한다.\n",
    "\n",
    "(1.11) (print())는 파이썬의 대표적인 내장함수로 괄호 안의 값을 출력한다.\n",
    " \n",
    "(1.12) (주석)은 소스코드에 붙이는 설명글과 같은 것이다. (주석)은 프로그램이 하는 일을 설명하는 목적으로 주로 사용되며 실행에는 영향X\n",
    "\n",
    "(1.13)  파이썬은 그림그리기 기능을 제공한다. 이 기능을 수행하는 대표적인 것이 (터틀 그래픽)이다.\n"
   ]
  },
  {
   "cell_type": "markdown",
   "metadata": {},
   "source": [
    "*****1.1*****"
   ]
  },
  {
   "cell_type": "markdown",
   "metadata": {},
   "source": [
    "*****1.2*****"
   ]
  },
  {
   "cell_type": "markdown",
   "metadata": {},
   "source": [
    "*****1.3*****\n",
    "다음의 파이썬 코드의 출력 결과는 무엇인가?\n",
    "print(100)\n",
    "print(100+2)\n",
    "print('100+200')\n",
    "print(100,200)\n",
    "print('100','200')\n",
    "print('100'200')\n",
    "print('Hello python!')\n",
    "print('Hello','python','!')\n",
    "print('Hello'+'python'+'!')\n",
    "print('Hello''python''!')\n",
    "print('**********')\n",
    "print('*'*20)"
   ]
  },
  {
   "cell_type": "code",
   "execution_count": 7,
   "metadata": {},
   "outputs": [
    {
     "name": "stdout",
     "output_type": "stream",
     "text": [
      "100\n",
      "102\n",
      "100+200\n",
      "100 200\n",
      "100 200\n",
      "100200\n",
      "Hello python!\n",
      "Hello python !\n",
      "Hellopython!\n",
      "Hellopython!\n",
      "**********\n",
      "********************\n"
     ]
    }
   ],
   "source": [
    "print(100)\n",
    "print(100+2)\n",
    "print('100+200')\n",
    "print(100,200)\n",
    "print('100','200')\n",
    "print('100''200')\n",
    "print('Hello python!')\n",
    "print('Hello','python','!')\n",
    "print('Hello'+'python'+'!')\n",
    "print('Hello''python''!')\n",
    "print('**********')\n",
    "print('*'*20)"
   ]
  },
  {
   "cell_type": "markdown",
   "metadata": {},
   "source": [
    "*****1.4*****\n",
    "다음 코드들은 어떤 오류를 출력하는가? 나타나는 오류를 작성하고 수정한 후 실행하시오\n",
    "\n",
    "print(\"Hello python!\")\n",
    "print('*'*20)\n",
    "print(Life is short you learn Python!)\n",
    "print(100+200)\n",
    "\n",
    "출력되는 오류: SyntaxError: invalid syntax"
   ]
  },
  {
   "cell_type": "code",
   "execution_count": 13,
   "metadata": {},
   "outputs": [
    {
     "name": "stdout",
     "output_type": "stream",
     "text": [
      "Hello python!\n",
      "********************\n",
      "Life is short you learn Python!\n",
      "300\n"
     ]
    }
   ],
   "source": [
    "#수정한 코드\n",
    "print(\"Hello python!\")\n",
    "print(\"*\"*20)\n",
    "print(\"Life is short you learn Python!\")\n",
    "print(100+200)"
   ]
  },
  {
   "cell_type": "markdown",
   "metadata": {},
   "source": [
    "*****1.5*****\n",
    "'i love python'이라는 문장을 5번 출력하는 코드를 만들어 보자"
   ]
  },
  {
   "cell_type": "code",
   "execution_count": 14,
   "metadata": {},
   "outputs": [
    {
     "name": "stdout",
     "output_type": "stream",
     "text": [
      "Hello python\n",
      "Hello python\n",
      "Hello python\n",
      "Hello python\n",
      "Hello python\n"
     ]
    }
   ],
   "source": [
    "print('Hello python')\n",
    "print('Hello python')\n",
    "print('Hello python')\n",
    "print('Hello python')\n",
    "print('Hello python')"
   ]
  },
  {
   "cell_type": "markdown",
   "metadata": {},
   "source": [
    "*****1.6*****\n",
    "print()함수를 여러번 사용하여 다음과 같은 출력이 되도록 하라.\n",
    "*\n",
    "**\n",
    "***\n",
    "****\n",
    "*****\n",
    "******"
   ]
  },
  {
   "cell_type": "code",
   "execution_count": 17,
   "metadata": {},
   "outputs": [
    {
     "name": "stdout",
     "output_type": "stream",
     "text": [
      "*\n",
      "**\n",
      "***\n",
      "****\n",
      "*****\n",
      "******\n"
     ]
    }
   ],
   "source": [
    "print('*')\n",
    "print('*'*2)\n",
    "print('*'*3)\n",
    "print('*'*4)\n",
    "print('*'*5)\n",
    "print('*'*6)"
   ]
  },
  {
   "cell_type": "code",
   "execution_count": null,
   "metadata": {},
   "outputs": [],
   "source": [
    "#1.7(1) 밑변과 높이가 100인 직각 이등변 삼각형 그리기\n",
    "import turtle\n",
    "t=turtle.Turtle()\n",
    "t.shape('turtle')\n",
    "t.forward(100)\n",
    "t.left(135)\n",
    "t.forward(141.4)\n",
    "t.left(135)\n",
    "t.forward(100)\n",
    "turtle.done"
   ]
  },
  {
   "cell_type": "code",
   "execution_count": null,
   "metadata": {},
   "outputs": [],
   "source": [
    "#1.7(2) 두개의 정삼각형 그리기\n",
    "import turtle\n",
    "t=turtle.Turtle()\n",
    "t.shape('turtle')\n",
    "t.forward(100)\n",
    "t.left(120)\n",
    "t.forward(100)\n",
    "t.left(120)\n",
    "t.forward(100)\n",
    "t.right(120)\n",
    "t.forward(100)\n",
    "t.right(120)\n",
    "t.fowar(100)\n",
    "turtle.done"
   ]
  },
  {
   "cell_type": "markdown",
   "metadata": {},
   "source": [
    "*****1.8*****\n",
    "다음의 수식을 계산해 보자\n",
    "100+100\n",
    "100+200\n",
    "200-100\n",
    "100*2\n",
    "100/2\n",
    "100-200"
   ]
  },
  {
   "cell_type": "code",
   "execution_count": 1,
   "metadata": {},
   "outputs": [
    {
     "name": "stdout",
     "output_type": "stream",
     "text": [
      "200\n",
      "300\n",
      "100\n",
      "200\n",
      "50.0\n",
      "-100\n"
     ]
    }
   ],
   "source": [
    "print(100+100)\n",
    "print(100+200)\n",
    "print(200-100)\n",
    "print(100*2)\n",
    "print(100/2)\n",
    "print(100-200)"
   ]
  }
 ],
 "metadata": {
  "kernelspec": {
   "display_name": "Python 3",
   "language": "python",
   "name": "python3"
  },
  "language_info": {
   "codemirror_mode": {
    "name": "ipython",
    "version": 3
   },
   "file_extension": ".py",
   "mimetype": "text/x-python",
   "name": "python",
   "nbconvert_exporter": "python",
   "pygments_lexer": "ipython3",
   "version": "3.12.5"
  }
 },
 "nbformat": 4,
 "nbformat_minor": 2
}
