{
 "cells": [
  {
   "cell_type": "markdown",
   "metadata": {},
   "source": [
    "*****도전문제3.1*****\n",
    "사용자가 시간을 입력하면 입력된 초가 몇 시간 몇 분 몇 초에 해당하는지 다음과 같이 출력하는 코드를 몫과 나머지 연산자를 이용하여 작성하여라"
   ]
  },
  {
   "cell_type": "code",
   "execution_count": 2,
   "metadata": {},
   "outputs": [
    {
     "name": "stdout",
     "output_type": "stream",
     "text": [
      "입력하신 시간은 645 시 23 분 43 초 입니다.\n"
     ]
    }
   ],
   "source": [
    "input_sec=int(input('초를 입력하세요:'))\n",
    "hour=input_sec//3600\n",
    "min=input_sec%3600//60\n",
    "sec=input_sec%3600%60\n",
    "print('입력하신 시간은',hour,'시',min,'분',sec,'초 입니다.')"
   ]
  },
  {
   "cell_type": "markdown",
   "metadata": {},
   "source": [
    "*****도전문제3.2****\n",
    "RMF를 계산하는 프로그램을 만들어 보아라.\n",
    "여자는 1의 값을 적용, 남자는 0의 값을 적용\n",
    "RMF=64-(20*(신장/허리둘레))+12*성별"
   ]
  },
  {
   "cell_type": "code",
   "execution_count": 6,
   "metadata": {},
   "outputs": [
    {
     "name": "stdout",
     "output_type": "stream",
     "text": [
      "당신의 RFM은 25.48936170212766 입니다.\n"
     ]
    }
   ],
   "source": [
    "gender=int(input('만약 여성이면 1 남성이면 0을 입력하세요:'))\n",
    "height=float(input('당신의 키는 얼마입니까?'))\n",
    "waist=int(input('당신의 허리 둘레는 얼마입니까'))\n",
    "if gender == 1:\n",
    "    print('당신의 RFM은',64-(20*(height/waist))+12*gender,'입니다.')\n",
    "elif gender == 0:\n",
    "    print('당신의 RFM은',64-(20*(height/waist))+12*gender,'입니다.')"
   ]
  },
  {
   "cell_type": "markdown",
   "metadata": {},
   "source": [
    "*****주관식 문제*****\n",
    "(3.1) 컴퓨터과학의 프로그래밍에서 사용하는 수식은 수학적 관계를 나타내는 것이 아니라 하나의 값으로 (평가)될 수 있는 표현을 의미한다.\n",
    "\n",
    "(3.2) 파이썬 연산자 중의 하나인 (할당)연산자에서는 이 연산자 왼쪽에 값을 저장할 수 있는 변수가 와야한다.\n",
    "\n",
    "(3.3) 연산자는 어떤 연산을 나타내는 기호를 의미하며 (피연산자)는 연산의 대상이 되는 숫자나 변수를 의미한다.\n",
    "\n",
    "(3.4) 여러 변수에 한꺼번에 값을 할당할 수 있는데 이를 (동시할당문)이라한다.\n",
    "\n",
    "(3.5) 파이썬에서 나눗셈 연산 (/)은 항상 실수로 계산된다. 나눗셈의 몫을 정수로 계산 하고 싶을 경우에는 (//)를 사용한다.\n",
    "\n",
    "(3.6) 파이썬에서 거듭제곱을 계산하려면 (**)연산자를 사용한다..예를 들어 27을 계산하는 수식은 (3 아스터리스크 2개 3)이다.\n",
    "\n",
    "(3.7) 파이썬에서 두 값의 크기를 비교하는 연산자를 (비교연산자)라고 한다.\n",
    "\n",
    "(3.8) 파이썬 연산자에서는 두 피연산자의 값이 다르면 (False)를 반환한다.\n",
    "\n",
    "(3.9) and or not 연산자를 지원하는데 이러한 연산자를 (논리연산자)라고 한다. 이 연산은 논리and or not연산을 통해 (bool)값을 반환한다.\n",
    "\n",
    "(3.10) 컴퓨더는 이진수를 사용하며, 한 자리의 이진수를 (비트)라고 한다.\n",
    "\n",
    "(3.11) 정수 데이터형에 대하여 비트 단위의 조작이 가능한데 이 조작을 위한 연산자가 (비트 연산자)이다. (비트 단위 연산자) 라고도 한다.\n",
    "\n",
    "(3.12) 비트가 한 칸 왼쪽으로 이동하면 정수는 2배의 값을 가지게 되고, 한 칸 오른쪽으로 이동하면 //2 연산을 한 결과가 될 것이다. 이를 (쉬프트 연산)이라고 한다.\n",
    "\n",
    "(3.13) (random) 모듈은 임의의 수를 생성하거나 리스트를 튜플 내의 요소를 무작위로 섞거나 선택하는 함수를 포함하고 있다.\n",
    "\n",
    "(3.14) (math) 모듈은 원주율, 자연상수 등의 상수 값과 실수의 절대값 로그 사인코 사인 등의 다양한 수학 함수를 포함하고 있다."
   ]
  },
  {
   "cell_type": "markdown",
   "metadata": {},
   "source": [
    "*****심화문제 3.1*****\n",
    "2에서 6까지의 제곱 값을 표로 출력하는 프로그램을 작성하라\n",
    "a에는 2에서 6까지 증가되는 수가 있으며, n은 2의 값을 가진다.  a**n 부분은 실제 수식의  결과가 출력되도록 하자.\n"
   ]
  },
  {
   "cell_type": "code",
   "execution_count": 3,
   "metadata": {},
   "outputs": [
    {
     "name": "stdout",
     "output_type": "stream",
     "text": [
      "a\tn\ta**n\n",
      "2 \t 2 \t 4\n",
      "3 \t 2 \t 9\n",
      "4 \t 2 \t 16\n",
      "5 \t 2 \t 25\n",
      "6 \t 2 \t 36\n"
     ]
    }
   ],
   "source": [
    "print('a\\tn\\ta**n')\n",
    "print(2,'\\t',2,'\\t',2**2)\n",
    "print(3,'\\t',2,'\\t',3**2)\n",
    "print(4,'\\t',2,'\\t',4**2)\n",
    "print(5,'\\t',2,'\\t',5**2)\n",
    "print(6,'\\t',2,'\\t',6**2)"
   ]
  },
  {
   "cell_type": "markdown",
   "metadata": {},
   "source": [
    "*****심화문제3.2*****\n",
    "1부터 10까지 수의 제곱근을 구하는 프로그램을 짜시오"
   ]
  },
  {
   "cell_type": "code",
   "execution_count": 4,
   "metadata": {},
   "outputs": [
    {
     "name": "stdout",
     "output_type": "stream",
     "text": [
      "2의 제곱근 1.4142135623730951\n",
      "3의 제곱근 1.7320508075688772\n",
      "4의 제곱근 2.0\n",
      "5의 제곱근 2.23606797749979\n",
      "6의 제곱근 2.449489742783178\n",
      "7의 제곱근 2.6457513110645907\n",
      "8의 제곱근 2.8284271247461903\n",
      "9의 제곱근 3.0\n",
      "10의 제곱근 3.1622776601683795\n"
     ]
    }
   ],
   "source": [
    "print('2의 제곱근',2**0.5)\n",
    "print('3의 제곱근',3**0.5)\n",
    "print('4의 제곱근',4**0.5)\n",
    "print('5의 제곱근',5**0.5)\n",
    "print('6의 제곱근',6**0.5)\n",
    "print('7의 제곱근',7**0.5)\n",
    "print('8의 제곱근',8**0.5)\n",
    "print('9의 제곱근',9**0.5)\n",
    "print('10의 제곱근',10**0.5)"
   ]
  },
  {
   "cell_type": "markdown",
   "metadata": {},
   "source": [
    "*****심화문제3.3*****\n",
    "비트이동 연산자를 이용하여 2의 거듭제곱 수 10개를 표시하여라\n",
    "\n",
    ">>>2<<<0\n",
    ">>>2<<<1\n",
    ">>>2<<<2\n",
    ">>>2<<<3\n",
    ">>>2<<<4\n",
    ">>>2<<<5\n",
    ">>>2<<<6\n",
    ">>>2<<<7\n",
    ">>>2<<<8\n",
    ">>>2<<<9\n"
   ]
  },
  {
   "cell_type": "markdown",
   "metadata": {},
   "source": [
    "*****심화문제3.4*****\n",
    "사용자로부터 입력받은 정수 값이 0에서 100 범위 안에 있는 짝수인지 그렇지 않은지를 판단하는 코드를 작성하시오."
   ]
  },
  {
   "cell_type": "code",
   "execution_count": 3,
   "metadata": {},
   "outputs": [
    {
     "name": "stdout",
     "output_type": "stream",
     "text": [
      "입력된 정수는 0에서 10의 범위 안에 있는 짝수인가요? True\n"
     ]
    }
   ],
   "source": [
    "num=int(input(\"정수를 입력하세요:\"))\n",
    "print(\"입력된 정수는 0에서 10의 범위 안에 있는 짝수인가요?\",bool(0<num<100 and num%2==0))"
   ]
  },
  {
   "cell_type": "markdown",
   "metadata": {},
   "source": [
    "*****심화문제3.5*****\n",
    "정수 5와 6의 이진수 값을 비트단위 AND OR XOR 연산을 수행한 후 이진수 값의 결과를 출력하라\n",
    "binary 5 = 0b101\n",
    "binary 6 = 0b110"
   ]
  },
  {
   "cell_type": "code",
   "execution_count": 4,
   "metadata": {},
   "outputs": [
    {
     "name": "stdout",
     "output_type": "stream",
     "text": [
      " 0b101&0b110= 0b100\n",
      " 0b101|0b110= 0b111\n",
      " 0b101^0b110= 0b11\n"
     ]
    }
   ],
   "source": [
    "print(' 0b101&0b110=',bin(5&6))\n",
    "print(' 0b101|0b110=',bin(5|6))\n",
    "print(' 0b101^0b110=',bin(5^6))"
   ]
  },
  {
   "cell_type": "markdown",
   "metadata": {},
   "source": [
    "*****심화문제3.6*****\n",
    "사용자로부터 두 정수 a, b를 입력받아 a를b로 나눈 몫과 나머지를 출력하는 프로그램을 짜시오"
   ]
  },
  {
   "cell_type": "code",
   "execution_count": 5,
   "metadata": {},
   "outputs": [
    {
     "name": "stdout",
     "output_type": "stream",
     "text": [
      "a/b의 몫: 4\n",
      "a/b의 나머지: 2\n"
     ]
    }
   ],
   "source": [
    "integer_a=int(input(\"정수 a를 입력하세요:\"))\n",
    "integer_b=int(input(\"정수 b를 입력하세요:\"))\n",
    "print(\"a/b의 몫:\",integer_a//integer_b)\n",
    "print(\"a/b의 나머지:\",integer_a%integer_b)"
   ]
  },
  {
   "cell_type": "markdown",
   "metadata": {},
   "source": [
    "*****심화문제3.7*****\n",
    "사용자로부터 세 자리 정수를 입력으로 받아라. 이때 입력받은 정수 n에 대한 백,십,일의 자리의 숫자를 십진수 값으로 출력하라."
   ]
  },
  {
   "cell_type": "code",
   "execution_count": 2,
   "metadata": {},
   "outputs": [
    {
     "name": "stdout",
     "output_type": "stream",
     "text": [
      "백의 자리: 3 십의 자리 4 일의 자리 9\n"
     ]
    }
   ],
   "source": [
    "integer=int(input('세 자리 정수를 입력:'))\n",
    "integer_100=integer//100\n",
    "integer_10=integer//10%10\n",
    "integer_1=integer%10\n",
    "print('백의 자리:',integer_100,'십의 자리',integer_10,'일의 자리',integer_1)"
   ]
  },
  {
   "cell_type": "markdown",
   "metadata": {},
   "source": [
    "*****심화문제3.8(1)*****\n",
    "사용자로부터 세 자리 정수를 입력으로 받고 그 값을 역순으로 출ㄹ력하라."
   ]
  },
  {
   "cell_type": "code",
   "execution_count": 3,
   "metadata": {},
   "outputs": [
    {
     "name": "stdout",
     "output_type": "stream",
     "text": [
      "9\n",
      "4\n",
      "3\n"
     ]
    }
   ],
   "source": [
    "integer=int(input('세 자리 정수를 입력하시오:'))\n",
    "integer_100=integer//100\n",
    "integer_10=integer//10%10\n",
    "integer_1=integer%10\n",
    "print(integer_1)\n",
    "print(integer_10)\n",
    "print(integer_100)"
   ]
  },
  {
   "cell_type": "markdown",
   "metadata": {},
   "source": [
    "*****심화문제3.8(2)*****\n",
    "심화문제 3.7(1)의 결과를 참고하여 사용자로 부터 입력받은 세 자리 숫자를 거꾸로 만든 3자리를 출력하라."
   ]
  },
  {
   "cell_type": "code",
   "execution_count": null,
   "metadata": {},
   "outputs": [],
   "source": []
  },
  {
   "cell_type": "markdown",
   "metadata": {},
   "source": [
    "*****심화문제3.9*****\n",
    "이동거리 구하기: 평균 시속과 이동 시간을 입력으로 받아 다음과 같이 이동시간은 시간, 분,초 단위로 출력하고, 이동한 거리를 계산하여 출력하라"
   ]
  },
  {
   "cell_type": "code",
   "execution_count": null,
   "metadata": {},
   "outputs": [],
   "source": []
  },
  {
   "cell_type": "markdown",
   "metadata": {},
   "source": [
    "*****심화문제3.10*****\n",
    "두 점의 좌표 (x1,y1),(x2,y2)를 입력받아 두 점 사이의 거리를 출력하라. "
   ]
  },
  {
   "cell_type": "code",
   "execution_count": 8,
   "metadata": {},
   "outputs": [
    {
     "name": "stdout",
     "output_type": "stream",
     "text": [
      "두 점의 거리: 5.0\n"
     ]
    }
   ],
   "source": [
    "x1=int(input('x1좌표 입력:'))\n",
    "y1=int(input('y1좌표 입력:'))\n",
    "x2=int(input('x2좌표 입력:'))\n",
    "y2=int(input('y2좌표 입력:'))\n",
    "직각삼각형밑변=x1-x2\n",
    "직각삼각형높이=y1-y2\n",
    "print('두 점의 거리:',((직각삼각형밑변)**2+(직각삼각형높이)**2)**0.5)\n"
   ]
  },
  {
   "cell_type": "markdown",
   "metadata": {},
   "source": [
    "*****심화문제3.11*****\n",
    "직각삼각형의 빗변을 이루는 선분의 양 끝점을 나타내는 두 좌표를 입력받아 직각삼각혀의 면적을 구하는 공식을 구하시오 \n",
    "(단, 입력되는 좌표는 x2 y2가  x1 y1보다 크다)"
   ]
  },
  {
   "cell_type": "code",
   "execution_count": 10,
   "metadata": {},
   "outputs": [
    {
     "name": "stdout",
     "output_type": "stream",
     "text": [
      "직각삼각형의 면적은: 6.0\n"
     ]
    }
   ],
   "source": [
    "x1=int(input('x1 좌표를 입력하시오:'))\n",
    "y1=int(input('y1좌표를 입력하세요:'))\n",
    "x2=int(input('x2좌표를 입력하세요:'))\n",
    "y2=int(input('y2좌표를 입력하세요:'))\n",
    "bottom_side=x2-x1\n",
    "height=y2-y1\n",
    "print('직각삼각형의 면적은:',(bottom_side)*(height)/2)\n"
   ]
  },
  {
   "cell_type": "markdown",
   "metadata": {},
   "source": [
    "*****심화문제3.12*****\n",
    "입체도형의 부피를 구하여라. 원주율 파이는 3.14로 두고 원뿔, 구 , 원기둥 부피의 근사값을 구하여라"
   ]
  },
  {
   "cell_type": "code",
   "execution_count": 15,
   "metadata": {},
   "outputs": [
    {
     "name": "stdout",
     "output_type": "stream",
     "text": [
      "모서리의 길이가 13인 정육면체: 2197\n",
      "모서리 길이가 22인 직육면체의 부피: 10648\n",
      "가로,세로,길이가 각각 17 25 16인 직육면체의 부피: 6800\n",
      "반지름과 높이가 각가 10,15인 원뿔: 1570.0\n",
      "반지름이 25인 구의 부피: 65416.666666666664\n",
      "반지름과 높이가 각가 10,15인 원기둥: 4710.0\n",
      "import math를 사용해서 구한 원뿔의 부피 1570.7963267948965\n",
      "import math를 사용해서 구한 구의 부피 65449.84694978735\n",
      "import math를 사용해서 구한 원기둥의 부피 4712.38898038469\n"
     ]
    }
   ],
   "source": [
    "lenght1=13\n",
    "print('모서리의 길이가 13인 정육면체:',lenght1**3)\n",
    "\n",
    "lenght2=22\n",
    "print('모서리 길이가 22인 직육면체의 부피:',lenght2**3)\n",
    "\n",
    "l,w,h=17,25,16\n",
    "print('가로,세로,길이가 각각 17 25 16인 직육면체의 부피:',l*w*h)\n",
    "\n",
    "r,h=10,15\n",
    "print('반지름과 높이가 각가 10,15인 원뿔:',1/3*3.14*h*r**2)\n",
    "\n",
    "r=25\n",
    "print('반지름이 25인 구의 부피:',4/3*3.14*(r**3))\n",
    "\n",
    "r,h=10,15\n",
    "print('반지름과 높이가 각가 10,15인 원기둥:',3.14*(r**2)*h)\n",
    "\n",
    "import math\n",
    "r,h=10,15\n",
    "print('import math를 사용해서 구한 원뿔의 부피',1/3*math.pi*h*(r**2))\n",
    "\n",
    "r=25\n",
    "print('import math를 사용해서 구한 구의 부피',4/3*math.pi*(r**3))\n",
    "\n",
    "r,h=10,15\n",
    "print('import math를 사용해서 구한 원기둥의 부피',math.pi*(r**2)*h)\n"
   ]
  }
 ],
 "metadata": {
  "kernelspec": {
   "display_name": "Python 3",
   "language": "python",
   "name": "python3"
  },
  "language_info": {
   "codemirror_mode": {
    "name": "ipython",
    "version": 3
   },
   "file_extension": ".py",
   "mimetype": "text/x-python",
   "name": "python",
   "nbconvert_exporter": "python",
   "pygments_lexer": "ipython3",
   "version": "3.12.5"
  }
 },
 "nbformat": 4,
 "nbformat_minor": 2
}
