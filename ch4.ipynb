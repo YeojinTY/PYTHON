{
 "cells": [
  {
   "cell_type": "markdown",
   "metadata": {},
   "source": [
    "*****도전문제4.1*****\n",
    "어린이 보호구역 내에서 자동차의 속도를 km/h값으로 입력받은 후 이 값이 30이상이면 '과속입니다. 속도를 줄이세요'를 출력하라"
   ]
  },
  {
   "cell_type": "code",
   "execution_count": 1,
   "metadata": {},
   "outputs": [
    {
     "name": "stdout",
     "output_type": "stream",
     "text": [
      "과속입니다. 속도를 줄이세요.\n"
     ]
    }
   ],
   "source": [
    "speed=int(input('속도를 입력하세요:'))\n",
    "if speed >= 30:\n",
    "    print('과속입니다. 속도를 줄이세요.')"
   ]
  },
  {
   "cell_type": "markdown",
   "metadata": {},
   "source": [
    "*****도전문제4.2*****\n",
    "어린이 보호구역 내에서 자동차의 속도를 km/h값으로 입력받은 후 이 값이 30이상이면 '과속입니다. 속도를 줄이세요'를 출력하고 그렇지 않으면 '안전운전하세요'를 출력"
   ]
  },
  {
   "cell_type": "code",
   "execution_count": 2,
   "metadata": {},
   "outputs": [
    {
     "name": "stdout",
     "output_type": "stream",
     "text": [
      "안전운전하세요\n"
     ]
    }
   ],
   "source": [
    "speed=int(input('속도를 입력하세요:'))\n",
    "if speed >=30:\n",
    "    print('속도를 낮추세요')\n",
    "else:\n",
    "    print('안전운전하세요')"
   ]
  },
  {
   "cell_type": "markdown",
   "metadata": {},
   "source": [
    "*****도전문제4.3(1)*****\n",
    "정수를 입력받아 0보다 작으면 음수입니다. 그렇지 않을경우 음수가 아닙니다를 출력"
   ]
  },
  {
   "cell_type": "code",
   "execution_count": 3,
   "metadata": {},
   "outputs": [
    {
     "name": "stdout",
     "output_type": "stream",
     "text": [
      "음수가 아닙니다.\n"
     ]
    }
   ],
   "source": [
    "num=int(input('정수를 입력:'))\n",
    "if num <0:\n",
    "    print('음수입니다.')\n",
    "else:\n",
    "    print('음수가 아닙니다.')"
   ]
  },
  {
   "cell_type": "markdown",
   "metadata": {},
   "source": [
    "*****도전문제4.3(2)*****\n",
    "게임 점수를 입력받아 10000점 이상이면 '고수입니다.'를 출력하고 10000점 미만이면 '입문자입니다.'를 출력하는 프로그램을 작성하라"
   ]
  },
  {
   "cell_type": "code",
   "execution_count": 4,
   "metadata": {},
   "outputs": [
    {
     "name": "stdout",
     "output_type": "stream",
     "text": [
      "고수입니다.\n"
     ]
    }
   ],
   "source": [
    "game_score=int(input('점수를 입력하세요:'))\n",
    "if game_score>=10000:\n",
    "    print('고수입니다.')\n",
    "else:\n",
    "    print('입문자입니다.')"
   ]
  },
  {
   "cell_type": "markdown",
   "metadata": {},
   "source": [
    "*****도전문제4.3(3)*****\n",
    "두 정수를 입력받아 같을 경우  ' 두 값이 일치합니다.' 를 출력하고 값이 다르면 '두 값이 일치하지 않습니다.'를 출력하는 프로그램을 작성하라 "
   ]
  },
  {
   "cell_type": "code",
   "execution_count": 6,
   "metadata": {},
   "outputs": [
    {
     "name": "stdout",
     "output_type": "stream",
     "text": [
      "다른 값입니다.\n"
     ]
    }
   ],
   "source": [
    "num1=int(input('정수1을 입력하세요:'))\n",
    "num2=int(input('정수2를 입력하세요:'))\n",
    "if num1 == num2:\n",
    "    print('같은 값입니다.')\n",
    "else:\n",
    "    print('다른 값입니다.')"
   ]
  },
  {
   "cell_type": "markdown",
   "metadata": {},
   "source": [
    "*****도전문제4.4*****\n",
    "사용자로부터 2개의 정수를 연속하여 입력받도록 코드를 짜라. 이 때 두 정수는 모두 0이 아니라고 가정한다. 두 정수를 각각 x,y라 할 때, 부호가 모두 양수면 1사분면으로, (-x,y)이면 2사분면, (-x,-y)이면 3사분면 (x,-y)이면 4사분면 으로 거북이를 \n",
    "\n",
    "이동시켜라"
   ]
  },
  {
   "cell_type": "code",
   "execution_count": null,
   "metadata": {},
   "outputs": [],
   "source": []
  },
  {
   "cell_type": "markdown",
   "metadata": {},
   "source": [
    "*****도전문제4.5*****\n",
    "사용자로부터 x,y값을 입력받아 x가 크면 오른쪽으로, y가 크면 왼쪽으로, 두 값이 같으면 위로 움직이도록 하여라"
   ]
  },
  {
   "cell_type": "code",
   "execution_count": null,
   "metadata": {},
   "outputs": [],
   "source": []
  },
  {
   "cell_type": "markdown",
   "metadata": {},
   "source": [
    "*****도전문제4.6(1)*****\n",
    "15세 이상이면 '본 영화를 볼 수 있습니다.' 출력 후 '10000원 입니다.'를 출력해보아라 만약 15세 미만이면 '영화를 볼 수 없습니다.' '다른 영화를 볼래요?'를 출력해라"
   ]
  },
  {
   "cell_type": "code",
   "execution_count": 8,
   "metadata": {},
   "outputs": [
    {
     "name": "stdout",
     "output_type": "stream",
     "text": [
      "영화를 볼 수 없습니다.\n",
      "다른 영화를 볼래요?\n"
     ]
    }
   ],
   "source": [
    "age=int(input('나이를 입력하세요:'))\n",
    "if age >= 15:\n",
    "    print('영화를 볼 수 있습니다.')\n",
    "    print('10000원 입니다.')\n",
    "else:\n",
    "    print('영화를 볼 수 없습니다.')\n",
    "    print('다른 영화를 볼래요?')"
   ]
  },
  {
   "cell_type": "markdown",
   "metadata": {},
   "source": [
    "*****도전문제4.6(2)*****\n",
    "교통카드의 종류로 청소년, 성인 카드가 있다. 사용자에게 카드의 종류를 입력받아 청소년이면 '청소년입ㄴ다.' 성인이면 '승인되었습ㄴ디ㅏ.'를 출력해라"
   ]
  },
  {
   "cell_type": "code",
   "execution_count": 9,
   "metadata": {},
   "outputs": [
    {
     "name": "stdout",
     "output_type": "stream",
     "text": [
      "성인입니다.\n",
      "승인 되었습니다.\n"
     ]
    }
   ],
   "source": [
    "card=input('카드의 종류를 입력하세요(청소년/성인):')\n",
    "if card == '성인':\n",
    "  print('성인입니다.')\n",
    "  print('승인 되었습니다.')\n",
    "else:\n",
    "  print('청소년 입니다.')\n"
   ]
  },
  {
   "cell_type": "markdown",
   "metadata": {},
   "source": [
    "*****도전문제4.7*****\n",
    "터틀"
   ]
  },
  {
   "cell_type": "code",
   "execution_count": null,
   "metadata": {},
   "outputs": [],
   "source": []
  },
  {
   "cell_type": "markdown",
   "metadata": {},
   "source": [
    "*****도전문제4.8*****\n",
    "터틀"
   ]
  },
  {
   "cell_type": "markdown",
   "metadata": {},
   "source": [
    "*****도전문제4.9*****\n",
    "주사위 던지기 게임. 사용자의 이름을 받은 후 각자의 주사위 번호, 비교, 우승자를 출력하여라/"
   ]
  },
  {
   "cell_type": "code",
   "execution_count": 10,
   "metadata": {},
   "outputs": [
    {
     "name": "stdout",
     "output_type": "stream",
     "text": [
      "====주사위를 굴립니다.====\n",
      "ㅇㅇㅇ 의 주사위 번호 3\n",
      "ㄴㄴㄴ 의 주사위 번호 4\n",
      "ㄴㄴㄴ 의 승리입니다.\n"
     ]
    }
   ],
   "source": [
    "import random \n",
    "player1=str(input('이름입력:'))\n",
    "player2=str(input('이름입력:'))\n",
    "p1_output=random.randrange(1,6)\n",
    "p2_output=random.randrange(1,6)\n",
    "print('====주사위를 굴립니다.====')\n",
    "print(player1,'의 주사위 번호',p1_output)\n",
    "print(player2,'의 주사위 번호',p2_output)\n",
    "if p1_output>p2_output:\n",
    "    print(player1,'의 우승입니다.')\n",
    "elif p1_output == p2_output:\n",
    "    print('무승부입니다.')\n",
    "else:\n",
    "    print(player2,'의 승리입니다.')"
   ]
  },
  {
   "cell_type": "markdown",
   "metadata": {},
   "source": [
    "*****도전문제4.10*****\n",
    "원의 중심이 (3,4)에 있고 원의 반지름이 10인 경우에, 사용자로부터 x,y의 값을 입력받아 그 좌표가 원의 내부에 있으면 '내부에 있음' 원의 외부에 있으면 '외부에 있음'을 출력하라."
   ]
  },
  {
   "cell_type": "code",
   "execution_count": null,
   "metadata": {},
   "outputs": [],
   "source": []
  },
  {
   "cell_type": "markdown",
   "metadata": {},
   "source": [
    "*****도전문제4.11*****\n",
    "로그인 처리하기:아이디python 비밀번호 mypass1234 둘 다 맞으면 '환영합니다' 둘 중 하나가 틀리면 '아이디 (비밀번호)가 틀렸습니다.' 둘 다 틀리면 '다시시도하세요' 출력 "
   ]
  },
  {
   "cell_type": "code",
   "execution_count": 11,
   "metadata": {},
   "outputs": [
    {
     "name": "stdout",
     "output_type": "stream",
     "text": [
      "환영합니다.\n"
     ]
    }
   ],
   "source": [
    "user_id=input('id 입력하세요:')\n",
    "user_pw=input('패스워드 입력하세요:')\n",
    "if user_id == 'python' and user_pw == 'mypass1234':\n",
    "    print('환영합니다.')\n",
    "else:\n",
    "    print('아이디/비밀번호를 찾을 수 없습니다.')"
   ]
  },
  {
   "cell_type": "markdown",
   "metadata": {},
   "source": [
    "*****도전문제4.12*****"
   ]
  },
  {
   "cell_type": "code",
   "execution_count": null,
   "metadata": {},
   "outputs": [],
   "source": []
  },
  {
   "cell_type": "markdown",
   "metadata": {},
   "source": [
    "*****도전문제4.13*****"
   ]
  },
  {
   "cell_type": "code",
   "execution_count": null,
   "metadata": {},
   "outputs": [],
   "source": []
  },
  {
   "cell_type": "markdown",
   "metadata": {},
   "source": [
    "*****주관식 문제****"
   ]
  },
  {
   "cell_type": "markdown",
   "metadata": {},
   "source": [
    "(4.1) 여러 명령이 순차적으로 실행되는 구조를 (순차구조)라 한다.\n",
    "(4.2) 여러 개 중 하나의 명령뭉이 조건에 따라 선택적으로 실행되는 구조를 (선택구조)라 한다.\n",
    "(4.3) 동일한 명령이 반복되면서 실행되는 구조를 (반복구조)라 한다.\n",
    "(4.4) 어떤 조건을 만족하는지 그렇지 않은지를 판정하는 식을 (제어문)이라고 한다. 그리고이 조건은 참, 거짓의 값을 가지는 (bool)형으로 평가된다.\n",
    "(4.5) 관계 연산자는 두개의 피연산자를 비교하는데 사용되는데, 관계연산자의 결과는 (True) or (False)로 나다낸다.\n",
    "(4.6) 대입연산자(=)는 오른쪽의 값을 왼쪽 변수에 담는 연산이고, 관계연산자(==)는 좌우의 값이 같은지를 보고 참과 거짓 중 하나를 반환하는 연산자이다. \n",
    "(4.7) 파이썬에서 선택 구조를 위하여 if 문과 if-else문 그리고 (elif)문을 제공한다.\n",
    "(4.8) 파이썬의 조건식 뒤에는 반드시 특수기호인 (:)가 와야한다.\n",
    "(4.9) if-else 문은 주어진 조건식을 계산하여 조건식이 참으로 계산되면 (if)아래에 있는 문장을 실행. 거짓이라면(else)아래에 있는 문장을 실행\n",
    "(4.10) if-else문에서 조건이 거짓일 때 다른 조건을 검사할 수 있다. 이때는 (elif)키워드를 사용하면 된다. \n",
    "(4.11) 필요에 따라 if문 안에 또 다른 if 문이 들어갈 수도 있는데, 이것을(내부조건문)또는 (중첩조건문)이라고 한다.\n",
    "(4.12) 터틀 그래픽을 사용하기 위해서는 터틀 그래픽을 위한 turtle이라는 모듈을 이 코드 안으로 가지고 와야한다. 이 역할을 하는 코드는 (import turtle)이다. "
   ]
  },
  {
   "cell_type": "markdown",
   "metadata": {},
   "source": [
    "*****심화문제4.1*****\n",
    "사용자로부터a에서 z까지의 알파벳 문자 하나를 입력받아서 모음일 경우 '모음입니다.'를 출력하고 이 외의 문자는 '자음입니다.'를 출력하도록 만들어라"
   ]
  },
  {
   "cell_type": "code",
   "execution_count": 13,
   "metadata": {},
   "outputs": [
    {
     "name": "stdout",
     "output_type": "stream",
     "text": [
      "모음입니다.\n"
     ]
    }
   ],
   "source": [
    "모음='a','i','o','u'\n",
    "user=input('알파벳을 입력하세요')\n",
    "if user in 모음:\n",
    "    print('모음입니다.')\n",
    "else:\n",
    "    print('자음입니다.')"
   ]
  },
  {
   "cell_type": "markdown",
   "metadata": {},
   "source": [
    "*****심화문제4.2*****"
   ]
  },
  {
   "cell_type": "markdown",
   "metadata": {},
   "source": []
  },
  {
   "cell_type": "markdown",
   "metadata": {},
   "source": [
    "*****심화문제4.3*****\n",
    "사용자로 부터 나이를 입력받아 20살 이상이면 'Adult' 10살 이상이면'Youth'10살 미만이면 'Kid'를 출력하는 프로그램 작성"
   ]
  },
  {
   "cell_type": "code",
   "execution_count": 14,
   "metadata": {},
   "outputs": [
    {
     "name": "stdout",
     "output_type": "stream",
     "text": [
      "Youth\n"
     ]
    }
   ],
   "source": [
    "age=int(input('나이를 입력하세요:'))\n",
    "if age >= 20:\n",
    "    print('Adult')\n",
    "elif age >= 10:\n",
    "    print('Youth')\n",
    "else:\n",
    "    print('Kid')"
   ]
  },
  {
   "cell_type": "markdown",
   "metadata": {},
   "source": [
    "*****심화문제4.4*****\n",
    "정수를 입력으로 받아서 이 정수가 2로 나누어지는지, 3으로 나누어지는지, 혹은 두 정수 모두로도 나누어지지 않는지 알려주는 프로그램 작성"
   ]
  },
  {
   "cell_type": "code",
   "execution_count": 15,
   "metadata": {},
   "outputs": [
    {
     "name": "stdout",
     "output_type": "stream",
     "text": [
      "3으로 나누어 집니다.\n"
     ]
    }
   ],
   "source": [
    "integer=int(input('정수를 입력:'))\n",
    "if integer %2 == 0:\n",
    "    print('2로 나누어 집니다.')\n",
    "elif integer %2 != 0 and integer %3 ==0:\n",
    "    print('3으로 나누어 집니다.')\n",
    "else:\n",
    "    print('2,3모두로도 나누어지지 않습니다.')"
   ]
  },
  {
   "cell_type": "markdown",
   "metadata": {},
   "source": [
    "*****심화문제4.5*****"
   ]
  }
 ],
 "metadata": {
  "kernelspec": {
   "display_name": "Python 3",
   "language": "python",
   "name": "python3"
  },
  "language_info": {
   "codemirror_mode": {
    "name": "ipython",
    "version": 3
   },
   "file_extension": ".py",
   "mimetype": "text/x-python",
   "name": "python",
   "nbconvert_exporter": "python",
   "pygments_lexer": "ipython3",
   "version": "3.12.5"
  }
 },
 "nbformat": 4,
 "nbformat_minor": 2
}
