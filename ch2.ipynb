{
 "cells": [
  {
   "cell_type": "markdown",
   "metadata": {},
   "source": [
    "*****도전문제2.1*****\n",
    "(1)피자의 반지름을 30으로 하고 면적과 둘레를 동시에 계산해 보자\n",
    "(2)피자의 반지름을 42로 하고 면적과 둘레를 동시에 계산해 보자"
   ]
  },
  {
   "cell_type": "code",
   "execution_count": 3,
   "metadata": {},
   "outputs": [
    {
     "name": "stdout",
     "output_type": "stream",
     "text": [
      "피자의 면적1: 2826.0\n",
      "피자의 둘레1: 188.4\n",
      "피자의 면적2: 5538.96\n",
      "피자의 둘레2: 263.76\n"
     ]
    }
   ],
   "source": [
    "#(1)\n",
    "radius=30\n",
    "area,circumference=3.14*radius**2,3.14*2*radius\n",
    "print('피자의 면적1:',area)\n",
    "print('피자의 둘레1:',circumference)\n",
    "\n",
    "#(2)\n",
    "radius=42\n",
    "area,circumference=3.14*radius**2,3.14*2*radius\n",
    "print('피자의 면적2:',area)\n",
    "print('피자의 둘레2:',circumference)\n"
   ]
  },
  {
   "cell_type": "markdown",
   "metadata": {},
   "source": [
    "*****도전 문제 2.2*****\n",
    "(1)원의 반지름이 50인 원을 그리기\n",
    "(2)t.left(90)을 사용하여 거북이가 90도 왼쪽으로 향하도록 한 후 동일한 명령을 실행해서 6개의 원을 그리기. 원의 반지름은 50보다 더 커지도록 한다.\n",
    "(3) 2의 코드를 수정하여 위 아래 좌 우 네 방향으로 동일한 패턴의 원이 나타나도록 시도해보자.\n"
   ]
  },
  {
   "cell_type": "markdown",
   "metadata": {},
   "source": [
    "*****도전문제2.3*****\n",
    "1억으로 복리이자를 계산하여라"
   ]
  },
  {
   "cell_type": "code",
   "execution_count": null,
   "metadata": {},
   "outputs": [
    {
     "name": "stdout",
     "output_type": "stream",
     "text": [
      "원금: 100000000\n",
      "이율: 0.03\n",
      "기간: 5\n",
      "수령금액: 115927407.43\n"
     ]
    }
   ],
   "source": [
    "principal=100000000\n",
    "year=5\n",
    "interst_rate=0.03\n",
    "money=principal*(1.0+interst_rate)**5\n",
    "print('원금:',principal)\n",
    "print('이율:',interst_rate)\n",
    "print('기간:',year)\n",
    "print('수령금액:',money)\n"
   ]
  }
 ],
 "metadata": {
  "kernelspec": {
   "display_name": "Python 3",
   "language": "python",
   "name": "python3"
  },
  "language_info": {
   "codemirror_mode": {
    "name": "ipython",
    "version": 3
   },
   "file_extension": ".py",
   "mimetype": "text/x-python",
   "name": "python",
   "nbconvert_exporter": "python",
   "pygments_lexer": "ipython3",
   "version": "3.12.5"
  }
 },
 "nbformat": 4,
 "nbformat_minor": 2
}
