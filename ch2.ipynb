{
 "cells": [
  {
   "cell_type": "markdown",
   "metadata": {},
   "source": [
    "*****도전문제2.1*****\n",
    "(1)피자의 반지름을 30으로 하고 면적과 둘레를 동시에 계산해 보자\n",
    "(2)피자의 반지름을 42로 하고 면적과 둘레를 동시에 계산해 보자"
   ]
  },
  {
   "cell_type": "code",
   "execution_count": 3,
   "metadata": {},
   "outputs": [
    {
     "name": "stdout",
     "output_type": "stream",
     "text": [
      "피자의 면적1: 2826.0\n",
      "피자의 둘레1: 188.4\n",
      "피자의 면적2: 5538.96\n",
      "피자의 둘레2: 263.76\n"
     ]
    }
   ],
   "source": [
    "#(1)\n",
    "radius=30\n",
    "area,circumference=3.14*radius**2,3.14*2*radius\n",
    "print('피자의 면적1:',area)\n",
    "print('피자의 둘레1:',circumference)\n",
    "\n",
    "#(2)\n",
    "radius=42\n",
    "area,circumference=3.14*radius**2,3.14*2*radius\n",
    "print('피자의 면적2:',area)\n",
    "print('피자의 둘레2:',circumference)\n"
   ]
  },
  {
   "cell_type": "markdown",
   "metadata": {},
   "source": [
    "*****도전 문제 2.2*****\n",
    "(1)원의 반지름이 50인 원을 그리기\n",
    "(2)t.left(90)을 사용하여 거북이가 90도 왼쪽으로 향하도록 한 후 동일한 명령을 실행해서 6개의 원을 그리기. 원의 반지름은 50보다 더 커지도록 한다.\n",
    "(3) 2의 코드를 수정하여 위 아래 좌 우 네 방향으로 동일한 패턴의 원이 나타나도록 시도해보자.\n"
   ]
  },
  {
   "cell_type": "markdown",
   "metadata": {},
   "source": [
    "*****도전문제2.3*****\n",
    "1억으로 복리이자를 계산하여라"
   ]
  },
  {
   "cell_type": "code",
   "execution_count": null,
   "metadata": {},
   "outputs": [
    {
     "name": "stdout",
     "output_type": "stream",
     "text": [
      "원금: 100000000\n",
      "이율: 0.03\n",
      "기간: 5\n",
      "수령금액: 115927407.43\n"
     ]
    }
   ],
   "source": [
    "principal=100000000\n",
    "year=5\n",
    "interst_rate=0.03\n",
    "money=principal*(1.0+interst_rate)**5\n",
    "print('원금:',principal)\n",
    "print('이율:',interst_rate)\n",
    "print('기간:',year)\n",
    "print('수령금액:',money)\n"
   ]
  },
  {
   "cell_type": "markdown",
   "metadata": {},
   "source": [
    "*****2.4*****\n",
    "키가 172cm이고 몸무게가 78.8kg인 홍길동 씨의 BMI를 계산하여라\n"
   ]
  },
  {
   "cell_type": "code",
   "execution_count": 1,
   "metadata": {},
   "outputs": [
    {
     "name": "stdout",
     "output_type": "stream",
     "text": [
      "홍길동씨의 BMI: 26.636019469983776\n"
     ]
    }
   ],
   "source": [
    "height=1.72\n",
    "weight=78.8\n",
    "print('홍길동씨의 BMI:',weight/height**2)"
   ]
  },
  {
   "cell_type": "markdown",
   "metadata": {},
   "source": [
    "*****도전문제2.5*****\n",
    "무엇이 출력될 지 확인\n",
    "(1)\n",
    "x=7\n",
    "y=6\n",
    "x+y\n",
    "\n",
    "(2)\n",
    "x='7'\n",
    "y='6'\n",
    "x+y\n",
    "\n",
    "(3)\n",
    "x='7'\n",
    "y='6'\n",
    "x+y+x\n",
    "\n",
    "(4)\n",
    "x=7\n",
    "y=6\n",
    "x+y+x+y"
   ]
  },
  {
   "cell_type": "code",
   "execution_count": 2,
   "metadata": {},
   "outputs": [
    {
     "name": "stdout",
     "output_type": "stream",
     "text": [
      "1번: 13\n",
      "2번: 76\n",
      "3번: 767\n",
      "4번: 26\n"
     ]
    }
   ],
   "source": [
    "x=7\n",
    "y=6\n",
    "print('1번:',x+y)\n",
    "\n",
    "x='7'\n",
    "y='6'\n",
    "print('2번:',x+y)\n",
    "\n",
    "x='7'\n",
    "y='6'\n",
    "print('3번:',x+y+x)\n",
    "\n",
    "x=7\n",
    "y=6\n",
    "print('4번:',x+y+x+y)"
   ]
  },
  {
   "cell_type": "markdown",
   "metadata": {},
   "source": [
    "*****2.6*****\n",
    "(1)사용자로부터 체중과 신장을 입력하도록 하여, 입력된 값에 따라 BMI를 계산하는 스크립트를 작성하라.\n",
    "(2)사용자로 부터 두 수를 입력받아 두 수의 합과 평균을 출력하는 프로그램을 짜라\n",
    "(3)사용자로부터 세 수를 입력받아 세 수의 합과 평균을 출력하는 프로그램을 짜라"
   ]
  },
  {
   "cell_type": "code",
   "execution_count": 4,
   "metadata": {},
   "outputs": [
    {
     "name": "stdout",
     "output_type": "stream",
     "text": [
      "BMI: 24.489795918367346\n",
      "합: 134\n",
      "평균: 89.5\n",
      "합: 125\n",
      "평균: 86.0\n"
     ]
    }
   ],
   "source": [
    "#(1)\n",
    "height=float(input('신장을 입력하세요:'))\n",
    "weight=float(input('체중을 입력하세요:'))\n",
    "print('BMI:',weight/height**2)\n",
    "\n",
    "#(2)\n",
    "int1=int(input('정수1을 입력:'))\n",
    "int2=int(input('정수2를 입력:'))\n",
    "print('1번 합:',int1+int2)\n",
    "print('1번 평균:',int1+int2/2)\n",
    "\n",
    "#(3)\n",
    "int1=int(input('정수1을 입력:'))\n",
    "int2=int(input('정수2를 입력:'))\n",
    "int3=int(input('정수3를 입력:'))\n",
    "print('2번 합:',int1+int2+int3)\n",
    "print('2번 평균:',int1+int2+int3/2)\n",
    "\n"
   ]
  },
  {
   "cell_type": "markdown",
   "metadata": {},
   "source": [
    "*****도전문제2.7*****\n",
    "로봇 기자가 스포츠 신문의 기사를 작성하도록 해 보아라. 주식 시황을 알려주는 기사도 작성해라 "
   ]
  },
  {
   "cell_type": "code",
   "execution_count": 9,
   "metadata": {},
   "outputs": [
    {
     "name": "stdout",
     "output_type": "stream",
     "text": [
      "=========================================================================\n",
      "오늘 ㄹㄹ 에서 ㅇㄹ 와(과) ㅛㄱ 가 치열한 공방전을 펼쳤습니다.\n",
      "ㅇㅎㄹ 의 맹활약으로 ㅇㄹ 가 우승했습니다.\n",
      "=========================================================================\n",
      "**************************주식 시황 기사************************************\n",
      "코스피가 전 거래일 562.1 보다 85.9 오른 648.0\n",
      "코스닥지수는 전 거래일 785.23 보다 56.9 오른 842.13 에 거래를 종료했다.\n",
      "***************************************************************************\n"
     ]
    }
   ],
   "source": [
    "#스포츠 기사 \n",
    "stadium=input('경기장:')\n",
    "winner=input('우승팀:')\n",
    "looser=input('진 팀:')\n",
    "vip=input('우수선수:')\n",
    "print('=========================================================================')\n",
    "print('오늘',stadium,'에서',winner,'와(과)',looser,'가 치열한 공방전을 펼쳤습니다.')\n",
    "print(vip,'의 맹활약으로',winner,'가 우승했습니다.')\n",
    "print('=========================================================================')\n",
    "\n",
    "#주식 시황 기사 \n",
    "KOSPI_before_point=float(input('코스피의 전 거래 포인트: '))\n",
    "KOSPI_after_point=float(input('코스피 오른 포인트:'))\n",
    "KOSDAQ_before_point=float(input('코스닥 전 거래 포인트:'))\n",
    "KOSDAQ_after_point=float(input('코스닥 오른 포인트:'))\n",
    "print('**************************주식 시황 기사************************************')\n",
    "print('코스피가 전 거래일',KOSPI_before_point,'보다',KOSPI_after_point,'오른',KOSPI_before_point+KOSPI_after_point)\n",
    "print('코스닥지수는 전 거래일',KOSDAQ_before_point,'보다',KOSDAQ_after_point,'오른',KOSDAQ_before_point+KOSDAQ_after_point,'에 거래를 종료했다.')\n",
    "print('***************************************************************************')"
   ]
  },
  {
   "cell_type": "markdown",
   "metadata": {},
   "source": [
    "*****주관식 문제*****\n",
    "(2.1)(변수)는 컴퓨터의 메모리 공간에 이름을 붙이는 것으로 여기에 정수, 실수, 문자열 등의 자료값을 저장가능\n",
    "(2.2) 파이썬의 연산자 '='는 오른쪽 값을 왼쪽에 대입하라는 의미이다. 이를 (대입)혹은(할당)연산자라 한다.\n",
    "(2.3) 한 줄에 여러 개의 변수를 선언하고 이 변수에 값을 동시에 할당할 수 있는데,이를 (동시할당뭉)이라고 한다.\n",
    "(2.4) 변수의 이름은 (식별자)의 일종이다.\n",
    "(2.5) 미리 기능을 정의해 둔 코드를 필요에 따라 편리하게 호출 가능하다. 이와 같은 기능을 (함수) 라고 한다.\n",
    "(2.6) 메모리에 데이터를 저장한 곳의 위치를 (메모리주소)라고 한다.\n",
    "(2.7) 프로그램에서 사용할 수 있는 데이터의 종류를 (자료형)이라고 한다.\n",
    "(2.8) 기본 자료형 4개 1과 2 같은 (정수형), 3.14와 같은(실수형),'hello'와 같은(문자형), 참과 거짓을 나타내는 (부울형)이다.\n",
    "(2.9) 파이썬에서 변수의 자료형을 알려면 변수의 이름에 (type())함수를 적용하면 된다.\n",
    "(2.10) 객체 +.+명령() 형식의 구조에서 객체가 .연산자로 구분된 명령을 내릴 때 이 명령을 (메소드)라고 한다.\n",
    "(2.11) 변수와 상대되어 값이 고정되어 있는 수는 (상수)이다.\n"
   ]
  },
  {
   "cell_type": "markdown",
   "metadata": {},
   "source": [
    "*****심화문제2.1*****\n",
    "print()함수와 +연산자를 사용하여  200+300+400의 결과를 출력하라"
   ]
  },
  {
   "cell_type": "code",
   "execution_count": 10,
   "metadata": {},
   "outputs": [
    {
     "name": "stdout",
     "output_type": "stream",
     "text": [
      "200+300+400= 900\n"
     ]
    }
   ],
   "source": [
    "print('200+300+400=',200+300+400)"
   ]
  },
  {
   "cell_type": "markdown",
   "metadata": {},
   "source": [
    "*****심화문제2.2*****\n",
    "너비 변수에는 30, 높이 변수에는 60값이 출력되도록 하라"
   ]
  },
  {
   "cell_type": "code",
   "execution_count": 11,
   "metadata": {},
   "outputs": [
    {
     "name": "stdout",
     "output_type": "stream",
     "text": [
      "너비: 30 높이; 60\n"
     ]
    }
   ],
   "source": [
    "weight=30\n",
    "height=60\n",
    "print('너비:',weight,'높이;',height)"
   ]
  },
  {
   "cell_type": "markdown",
   "metadata": {},
   "source": [
    "*****심화문제2.3*****\n",
    "width와 height변수를 이용하여 삼각형의 면적을 구해라\n",
    "(조건)\n",
    "1.width height에 각각 40 20의 값을 할당해라\n",
    "2.동시할당문으로 작성해라"
   ]
  },
  {
   "cell_type": "code",
   "execution_count": 17,
   "metadata": {},
   "outputs": [
    {
     "name": "stdout",
     "output_type": "stream",
     "text": [
      "area: 400.0\n"
     ]
    }
   ],
   "source": [
    "width,height=40,20\n",
    "print('area:',(width*height)*0.5)"
   ]
  },
  {
   "cell_type": "markdown",
   "metadata": {},
   "source": [
    "*****심화문제2.5*****\n",
    "사용자로 부터 입력을 받아 정사각형의 면적을 구하시오"
   ]
  },
  {
   "cell_type": "code",
   "execution_count": 18,
   "metadata": {},
   "outputs": [
    {
     "name": "stdout",
     "output_type": "stream",
     "text": [
      "square_area: 25\n"
     ]
    }
   ],
   "source": [
    "square=int(input('정사각형의 한 변의 길이를 입력하시오:'))\n",
    "print('square_area:',square**2)"
   ]
  },
  {
   "cell_type": "markdown",
   "metadata": {},
   "source": [
    "*****심화문제2.6*****\n",
    "프린트 함수와 +연산을 9개 사용하여 1에서 10까지의 정수의 합을 출력하시오"
   ]
  },
  {
   "cell_type": "code",
   "execution_count": 19,
   "metadata": {},
   "outputs": [
    {
     "name": "stdout",
     "output_type": "stream",
     "text": [
      "1에서 10까지의 합: 55\n"
     ]
    }
   ],
   "source": [
    "print('1에서 10까지의 합:',1+2+3+4+5+6+7+8+9+10)"
   ]
  },
  {
   "cell_type": "markdown",
   "metadata": {},
   "source": [
    "*****심화문제2.7*****\n",
    "10팩토리얼 출력"
   ]
  },
  {
   "cell_type": "code",
   "execution_count": 20,
   "metadata": {},
   "outputs": [
    {
     "name": "stdout",
     "output_type": "stream",
     "text": [
      "10!: 3628800\n"
     ]
    }
   ],
   "source": [
    "print('10!:',1*2*3*4*5*6*7*8*9*10)"
   ]
  },
  {
   "cell_type": "markdown",
   "metadata": {},
   "source": [
    "*****심화문제2.8*****\n",
    "섭씨온도를 화씨로 바꾸는 공식\n",
    "화씨=(9/5)*섭씨+32\n",
    "\n",
    "위 공식을 이용하여 0도에서 50도 까지 10단위로 증가 시키면서 이에 해당하는 화씨온도를 출력해라 "
   ]
  },
  {
   "cell_type": "code",
   "execution_count": 23,
   "metadata": {},
   "outputs": [
    {
     "name": "stdout",
     "output_type": "stream",
     "text": [
      "섭씨 화씨\n",
      "0 32.0\n",
      "10 50.0\n",
      "20 68.0\n",
      "30 86.0\n",
      "40 104.0\n",
      "50 122.0\n"
     ]
    }
   ],
   "source": [
    "print('섭씨 화씨')\n",
    "celsius1=0\n",
    "fahrenheit1=(9/5)*celsius1+32\n",
    "print(celsius1,fahrenheit1)\n",
    "\n",
    "celsius2=10\n",
    "fahrenheit2=(9/5)*celsius2+32\n",
    "print(celsius2,fahrenheit2)\n",
    "\n",
    "celsius3=20\n",
    "fahrenheit3=(9/5)*celsius3+32\n",
    "print(celsius3,fahrenheit3)\n",
    "\n",
    "\n",
    "celsius4=30\n",
    "fahrenheit4=(9/5)*celsius4+32\n",
    "print(celsius4,fahrenheit4)\n",
    "\n",
    "celsius5=40\n",
    "fahrenheit5=(9/5)*celsius5+32\n",
    "print(celsius5,fahrenheit5)\n",
    "\n",
    "celsius6=50\n",
    "fahrenheit6=(9/5)*celsius6+32\n",
    "print(celsius6,fahrenheit6)"
   ]
  },
  {
   "cell_type": "markdown",
   "metadata": {},
   "source": [
    "*****심화문제2.9*****\n",
    "사용자로부터 섭씨온도를 입력받아 섭씨, 화씨를 모두 출력하는 프로그램 작성"
   ]
  },
  {
   "cell_type": "code",
   "execution_count": 24,
   "metadata": {},
   "outputs": [
    {
     "name": "stdout",
     "output_type": "stream",
     "text": [
      "섭씨 50 도는 화씨 122.0 도 입니다.\n"
     ]
    }
   ],
   "source": [
    "celsius=int(input('섭씨온도를 입력하세요:'))\n",
    "fahrenheit=(9/5)*celsius+32\n",
    "print('섭씨',celsius,'도는 화씨',fahrenheit,'도 입니다.')"
   ]
  },
  {
   "cell_type": "markdown",
   "metadata": {},
   "source": [
    "*****심화문제2.9*****\n",
    "사용자로부터 반지름을 입력받아 원의 둘레와 넓이를 구해 출력하는 프로그램을 작성"
   ]
  },
  {
   "cell_type": "code",
   "execution_count": 25,
   "metadata": {},
   "outputs": [
    {
     "name": "stdout",
     "output_type": "stream",
     "text": [
      "원의 넓이: 78.53981625 원의 둘레: 31.4159265\n"
     ]
    }
   ],
   "source": [
    "radius=int(input('반지름을 입력하시오:'))\n",
    "PI=3.14159265\n",
    "area=radius**2*PI\n",
    "circumference=2*PI*radius\n",
    "print('원의 넓이:',area,'원의 둘레:',circumference)"
   ]
  },
  {
   "cell_type": "markdown",
   "metadata": {},
   "source": [
    "*****심화문제2.10*****\n",
    "print()를 이용하여 다음을 출력하라\n",
    "It's really hot!\n",
    "I said \"Hello!\" to him.\n",
    "He said \"what's there?\"\n",
    "Newline character is \\n, Tab character is \\t.\n",
    "Working directry id C:\\workspace\\mywork."
   ]
  },
  {
   "cell_type": "code",
   "execution_count": 38,
   "metadata": {},
   "outputs": [
    {
     "name": "stdout",
     "output_type": "stream",
     "text": [
      "It's really hot!\n",
      "I said \"Hello!\" to him.\n",
      "\"what's there?\"\n",
      "Newline character is\\n, Tab character is \\t.\n",
      "Working directry id C\\:workspace\\mywork.\n"
     ]
    }
   ],
   "source": [
    "print(\"It's really hot!\")\n",
    "print('I said \"Hello!\" to him.')\n",
    "print('''\"what's there?\"''')\n",
    "print(\"Newline character is\\\\n, Tab character is \\\\t.\")\n",
    "print(\"Working directry id C\\\\:workspace\\\\mywork.\")"
   ]
  }
 ],
 "metadata": {
  "kernelspec": {
   "display_name": "Python 3",
   "language": "python",
   "name": "python3"
  },
  "language_info": {
   "codemirror_mode": {
    "name": "ipython",
    "version": 3
   },
   "file_extension": ".py",
   "mimetype": "text/x-python",
   "name": "python",
   "nbconvert_exporter": "python",
   "pygments_lexer": "ipython3",
   "version": "3.12.5"
  }
 },
 "nbformat": 4,
 "nbformat_minor": 2
}
