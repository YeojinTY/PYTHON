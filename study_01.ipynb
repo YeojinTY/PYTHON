{
 "cells": [
  {
   "cell_type": "code",
   "execution_count": 2,
   "metadata": {},
   "outputs": [
    {
     "name": "stdout",
     "output_type": "stream",
     "text": [
      "conguraturations\n"
     ]
    }
   ],
   "source": [
    "#lab 4-8\n",
    "import random\n",
    "n=random.randrange(1,3)\n",
    "if n ==1 :\n",
    "    computer_choice = 'left'\n",
    "elif n == 2:\n",
    "    computer_choice = 'center'\n",
    "else:\n",
    "    computer_choice = 'right'\n",
    "\n",
    "user_choice = input('where do you want to attack?:')\n",
    "if computer_choice == user_choice:\n",
    "    print('you failed')\n",
    "else:\n",
    "    print('conguraturations')"
   ]
  },
  {
   "cell_type": "code",
   "execution_count": 12,
   "metadata": {},
   "outputs": [
    {
     "name": "stdout",
     "output_type": "stream",
     "text": [
      "모음입니다.\n"
     ]
    }
   ],
   "source": [
    "모음='a','e','i','o','u'\n",
    "user=input('알파벳을 입력하세요:')\n",
    "if user in 모음:\n",
    "    print('모음입니다.')\n",
    "else:\n",
    "    print('자음 입니다.')"
   ]
  },
  {
   "cell_type": "code",
   "execution_count": 32,
   "metadata": {},
   "outputs": [
    {
     "name": "stdout",
     "output_type": "stream",
     "text": [
      "adult\n"
     ]
    }
   ],
   "source": [
    "user_age=int(input('enter your age'))\n",
    "if user_age >= 20:\n",
    "    print('adult')\n",
    "elif 10<= user_age <= 20:\n",
    "    print('youth')\n",
    "else:\n",
    "    print('kid')"
   ]
  },
  {
   "cell_type": "code",
   "execution_count": 19,
   "metadata": {},
   "outputs": [
    {
     "name": "stdout",
     "output_type": "stream",
     "text": [
      "아무것도\n"
     ]
    }
   ],
   "source": [
    "integer=int(input('enter the integer:'))\n",
    "if integer %2==0:\n",
    "    print(integer,'는 2로 나누어 집니다.')\n",
    "elif integer % 3 == 0:\n",
    "    print('3으로 나누어짐')\n",
    "else:\n",
    "    print('아무것도')"
   ]
  },
  {
   "cell_type": "code",
   "execution_count": 40,
   "metadata": {},
   "outputs": [
    {
     "name": "stdout",
     "output_type": "stream",
     "text": [
      "failed\n"
     ]
    }
   ],
   "source": [
    "import random\n",
    "user=int(input('세 자리의 숫자를 입력하세요:'))\n",
    "lotto=random.randint(0,9)\n",
    "if user == lotto==3:\n",
    "    print('one hundred million')\n",
    "elif user == lotto == 2:\n",
    "    print('d')\n",
    "else:\n",
    "    print('failed')"
   ]
  },
  {
   "cell_type": "code",
   "execution_count": 41,
   "metadata": {},
   "outputs": [
    {
     "name": "stdout",
     "output_type": "stream",
     "text": [
      "###############\n",
      "###############\n",
      "###############\n",
      "###############\n",
      "###############\n"
     ]
    }
   ],
   "source": [
    "i='#'\n",
    "for i in range(5):\n",
    "    print('###############')"
   ]
  },
  {
   "cell_type": "code",
   "execution_count": 47,
   "metadata": {},
   "outputs": [
    {
     "name": "stdout",
     "output_type": "stream",
     "text": [
      "i= 1\n",
      "i= 2\n",
      "i= 3\n",
      "i= 4\n",
      "i= 5\n",
      "8* 1 = 8\n",
      "8* 2 = 16\n",
      "8* 3 = 24\n",
      "8* 4 = 32\n",
      "8* 5 = 40\n",
      "a\n",
      "b\n",
      "c\n",
      "d\n",
      "e\n",
      "f\n",
      "g\n",
      "!!!!!!환영!!!!!!\n",
      "!!!python!!!\n",
      "!!!!!!환영!!!!!!\n",
      "!!!python!!!\n",
      "!!!!!!환영!!!!!!\n",
      "!!!python!!!\n",
      "!!!!!!환영!!!!!!\n",
      "!!!python!!!\n",
      "!!!!!!환영!!!!!!\n",
      "!!!python!!!\n"
     ]
    }
   ],
   "source": [
    "for i in [1,2,3,4,5]: #i에 대입되는 값도 되고 반복하는 횟수의 범위도 되고???\n",
    "    print('i=',i)\n",
    "\n",
    "for i in [1,2,3,4,5]:\n",
    "    print('8*',i,'=',8*i)\n",
    "\n",
    "group=['a','b','c','d','e','f','g']\n",
    "for i in group:\n",
    "    print(i)\n",
    "\n",
    "for i in range(5):\n",
    "    print('!!!!!!환영!!!!!!')\n",
    "    print('!!!python!!!')"
   ]
  }
 ],
 "metadata": {
  "kernelspec": {
   "display_name": "Python 3",
   "language": "python",
   "name": "python3"
  },
  "language_info": {
   "codemirror_mode": {
    "name": "ipython",
    "version": 3
   },
   "file_extension": ".py",
   "mimetype": "text/x-python",
   "name": "python",
   "nbconvert_exporter": "python",
   "pygments_lexer": "ipython3",
   "version": "3.12.5"
  }
 },
 "nbformat": 4,
 "nbformat_minor": 2
}
