{
 "cells": [
  {
   "cell_type": "code",
   "execution_count": 35,
   "metadata": {},
   "outputs": [
    {
     "name": "stdout",
     "output_type": "stream",
     "text": [
      "5\n",
      "-1\n",
      "12\n",
      "0.2222222222222222\n",
      "8034318828295785126\n",
      "heypython\n",
      "반가워요반가워요반가워요\n",
      "100200\n",
      "hello 'python' sss\n",
      "\"hello\"my'name'is David\n",
      "\"willium is one of the most prominent figure in the history of 'English literactirerers'\"\n",
      "\"귀찮아\"\n",
      "'HTML 피아니 코드 태그'\n",
      "dltmzpdlvm answkduf\n",
      "your name : \n",
      "David\n",
      "python\n",
      "0\n"
     ]
    }
   ],
   "source": [
    "2+3\n",
    "print(2+3)\n",
    "print(2-3)\n",
    "print(3*4)\n",
    "print(2/9)\n",
    "print(20394809382*393939393)\n",
    "print('hey'+'python')\n",
    "print('반가워요'*3)\n",
    "print('100'+'200')#문자열로 인식해서 연결을 함.\n",
    "print(\"hello 'python' sss\")\n",
    "print('''\"hello\"my'name'is David''')\n",
    "print('''\"willium is one of the most prominent figure in the history of 'English literactirerers'\"''')\n",
    "print('''\"귀찮아\"''')\n",
    "print(\"'HTML 피아니 코드 태그'\")\n",
    "print(\"dltmzpdlvm answkduf\") \n",
    "print('your name : ') \n",
    "name='David'\n",
    "print(name)\n",
    "print('python')\n",
    "a=2\n",
    "b=99\n",
    "print(a//b)"
   ]
  }
 ],
 "metadata": {
  "kernelspec": {
   "display_name": "Python 3",
   "language": "python",
   "name": "python3"
  },
  "language_info": {
   "codemirror_mode": {
    "name": "ipython",
    "version": 3
   },
   "file_extension": ".py",
   "mimetype": "text/x-python",
   "name": "python",
   "nbconvert_exporter": "python",
   "pygments_lexer": "ipython3",
   "version": "3.12.5"
  }
 },
 "nbformat": 4,
 "nbformat_minor": 2
}
